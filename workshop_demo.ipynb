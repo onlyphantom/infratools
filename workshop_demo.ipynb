{
 "cells": [
  {
   "cell_type": "markdown",
   "metadata": {},
   "source": [
    "# Kickstart Data Science Workshop\n",
    "Workshops in our Kickstart series are tailored to casual programmers and non-programmers that are taking their first steps into data science. It assumes no prior knowledge or academic background, and attendees will be introduced to the beautiful art of writing R / Python code to produce data visualization and simple mahine learning models.\n",
    "\n",
    "## Prototype"
   ]
  },
  {
   "cell_type": "code",
   "execution_count": 84,
   "metadata": {},
   "outputs": [
    {
     "name": "stdout",
     "output_type": "stream",
     "text": [
      "0.24.2\n"
     ]
    }
   ],
   "source": [
    "import sqlite3\n",
    "import pandas as pd\n",
    "import altair as alt\n",
    "\n",
    "print(pd.__version__)"
   ]
  },
  {
   "cell_type": "markdown",
   "metadata": {},
   "source": [
    "For context on the dataset we're working with, refer to: \n",
    "- A screenshot of the [the survey form](https://github.com/onlyphantom/pedagogy/issues/6) \n",
    "- Refer to the feature set on [the actual app](https://github.com/onlyphantom/pedagogy)"
   ]
  },
  {
   "cell_type": "code",
   "execution_count": 119,
   "metadata": {},
   "outputs": [
    {
     "data": {
      "text/html": [
       "<div>\n",
       "<style scoped>\n",
       "    .dataframe tbody tr th:only-of-type {\n",
       "        vertical-align: middle;\n",
       "    }\n",
       "\n",
       "    .dataframe tbody tr th {\n",
       "        vertical-align: top;\n",
       "    }\n",
       "\n",
       "    .dataframe thead th {\n",
       "        text-align: right;\n",
       "    }\n",
       "</style>\n",
       "<table border=\"1\" class=\"dataframe\">\n",
       "  <thead>\n",
       "    <tr style=\"text-align: right;\">\n",
       "      <th></th>\n",
       "      <th>knowledge</th>\n",
       "      <th>venue_score</th>\n",
       "      <th>satisfaction_score</th>\n",
       "      <th>class_size</th>\n",
       "      <th>workshop_instructor</th>\n",
       "    </tr>\n",
       "  </thead>\n",
       "  <tbody>\n",
       "    <tr>\n",
       "      <th>2064</th>\n",
       "      <td>5.0</td>\n",
       "      <td>5.0</td>\n",
       "      <td>5.0</td>\n",
       "      <td>25</td>\n",
       "      <td>12</td>\n",
       "    </tr>\n",
       "    <tr>\n",
       "      <th>2065</th>\n",
       "      <td>5.0</td>\n",
       "      <td>4.0</td>\n",
       "      <td>3.0</td>\n",
       "      <td>25</td>\n",
       "      <td>12</td>\n",
       "    </tr>\n",
       "    <tr>\n",
       "      <th>2066</th>\n",
       "      <td>5.0</td>\n",
       "      <td>5.0</td>\n",
       "      <td>4.0</td>\n",
       "      <td>25</td>\n",
       "      <td>12</td>\n",
       "    </tr>\n",
       "    <tr>\n",
       "      <th>2067</th>\n",
       "      <td>5.0</td>\n",
       "      <td>3.0</td>\n",
       "      <td>5.0</td>\n",
       "      <td>25</td>\n",
       "      <td>12</td>\n",
       "    </tr>\n",
       "    <tr>\n",
       "      <th>2068</th>\n",
       "      <td>4.0</td>\n",
       "      <td>5.0</td>\n",
       "      <td>4.0</td>\n",
       "      <td>25</td>\n",
       "      <td>12</td>\n",
       "    </tr>\n",
       "  </tbody>\n",
       "</table>\n",
       "</div>"
      ],
      "text/plain": [
       "      knowledge  venue_score  satisfaction_score  class_size  \\\n",
       "2064        5.0          5.0                 5.0          25   \n",
       "2065        5.0          4.0                 3.0          25   \n",
       "2066        5.0          5.0                 4.0          25   \n",
       "2067        5.0          3.0                 5.0          25   \n",
       "2068        4.0          5.0                 4.0          25   \n",
       "\n",
       "      workshop_instructor  \n",
       "2064                   12  \n",
       "2065                   12  \n",
       "2066                   12  \n",
       "2067                   12  \n",
       "2068                   12  "
      ]
     },
     "execution_count": 119,
     "metadata": {},
     "output_type": "execute_result"
    }
   ],
   "source": [
    "conn = sqlite3.connect('data_input/infratools.db')\n",
    "df = pd.read_sql_query('SELECT r.knowledge, \\\n",
    "                        r.venue_score, r.satisfaction_score, \\\n",
    "                        w.class_size, w.workshop_instructor \\\n",
    "                        FROM response as r \\\n",
    "                        LEFT JOIN workshop as w \\\n",
    "                        ON r.workshop_id = w.id', conn)\n",
    "df.tail()"
   ]
  },
  {
   "cell_type": "code",
   "execution_count": 120,
   "metadata": {},
   "outputs": [
    {
     "data": {
      "text/plain": [
       "1    693\n",
       "2    225\n",
       "8    152\n",
       "5    150\n",
       "3    134\n",
       "Name: workshop_instructor, dtype: int64"
      ]
     },
     "execution_count": 120,
     "metadata": {},
     "output_type": "execute_result"
    }
   ],
   "source": [
    "top5 = df.workshop_instructor.value_counts().head()\n",
    "top5"
   ]
  },
  {
   "cell_type": "code",
   "execution_count": 121,
   "metadata": {},
   "outputs": [
    {
     "data": {
      "text/plain": [
       "(1354, 5)"
      ]
     },
     "execution_count": 121,
     "metadata": {},
     "output_type": "execute_result"
    }
   ],
   "source": [
    "selected = df.loc[df.workshop_instructor.isin(list(top5.axes[0])), ].copy()\n",
    "# selected.tail()\n",
    "selected.shape"
   ]
  },
  {
   "cell_type": "code",
   "execution_count": 122,
   "metadata": {},
   "outputs": [
    {
     "data": {
      "text/html": [
       "<div>\n",
       "<style scoped>\n",
       "    .dataframe tbody tr th:only-of-type {\n",
       "        vertical-align: middle;\n",
       "    }\n",
       "\n",
       "    .dataframe tbody tr th {\n",
       "        vertical-align: top;\n",
       "    }\n",
       "\n",
       "    .dataframe thead th {\n",
       "        text-align: right;\n",
       "    }\n",
       "</style>\n",
       "<table border=\"1\" class=\"dataframe\">\n",
       "  <thead>\n",
       "    <tr style=\"text-align: right;\">\n",
       "      <th></th>\n",
       "      <th>knowledge</th>\n",
       "      <th>venue_score</th>\n",
       "      <th>satisfaction_score</th>\n",
       "      <th>class_size</th>\n",
       "      <th>workshop_instructor</th>\n",
       "    </tr>\n",
       "  </thead>\n",
       "  <tbody>\n",
       "    <tr>\n",
       "      <th>0</th>\n",
       "      <td>4.0</td>\n",
       "      <td>4.0</td>\n",
       "      <td>4.0</td>\n",
       "      <td>21</td>\n",
       "      <td>1</td>\n",
       "    </tr>\n",
       "    <tr>\n",
       "      <th>1</th>\n",
       "      <td>5.0</td>\n",
       "      <td>5.0</td>\n",
       "      <td>5.0</td>\n",
       "      <td>21</td>\n",
       "      <td>1</td>\n",
       "    </tr>\n",
       "    <tr>\n",
       "      <th>2</th>\n",
       "      <td>5.0</td>\n",
       "      <td>4.0</td>\n",
       "      <td>5.0</td>\n",
       "      <td>21</td>\n",
       "      <td>1</td>\n",
       "    </tr>\n",
       "    <tr>\n",
       "      <th>3</th>\n",
       "      <td>5.0</td>\n",
       "      <td>3.0</td>\n",
       "      <td>4.0</td>\n",
       "      <td>21</td>\n",
       "      <td>1</td>\n",
       "    </tr>\n",
       "    <tr>\n",
       "      <th>4</th>\n",
       "      <td>5.0</td>\n",
       "      <td>4.0</td>\n",
       "      <td>4.0</td>\n",
       "      <td>21</td>\n",
       "      <td>1</td>\n",
       "    </tr>\n",
       "  </tbody>\n",
       "</table>\n",
       "</div>"
      ],
      "text/plain": [
       "   knowledge  venue_score  satisfaction_score  class_size  workshop_instructor\n",
       "0        4.0          4.0                 4.0          21                    1\n",
       "1        5.0          5.0                 5.0          21                    1\n",
       "2        5.0          4.0                 5.0          21                    1\n",
       "3        5.0          3.0                 4.0          21                    1\n",
       "4        5.0          4.0                 4.0          21                    1"
      ]
     },
     "execution_count": 122,
     "metadata": {},
     "output_type": "execute_result"
    }
   ],
   "source": [
    "selected.head()"
   ]
  },
  {
   "cell_type": "code",
   "execution_count": 123,
   "metadata": {},
   "outputs": [
    {
     "data": {
      "text/plain": [
       "(1246, 5)"
      ]
     },
     "execution_count": 123,
     "metadata": {},
     "output_type": "execute_result"
    }
   ],
   "source": [
    "selected.dropna(inplace=True)\n",
    "selected.shape"
   ]
  },
  {
   "cell_type": "code",
   "execution_count": 124,
   "metadata": {},
   "outputs": [
    {
     "data": {
      "text/html": [
       "<div>\n",
       "<style scoped>\n",
       "    .dataframe tbody tr th:only-of-type {\n",
       "        vertical-align: middle;\n",
       "    }\n",
       "\n",
       "    .dataframe tbody tr th {\n",
       "        vertical-align: top;\n",
       "    }\n",
       "\n",
       "    .dataframe thead th {\n",
       "        text-align: right;\n",
       "    }\n",
       "</style>\n",
       "<table border=\"1\" class=\"dataframe\">\n",
       "  <thead>\n",
       "    <tr style=\"text-align: right;\">\n",
       "      <th></th>\n",
       "      <th>workshop_instructor</th>\n",
       "      <th>knowledge</th>\n",
       "      <th>venue_score</th>\n",
       "      <th>satisfaction_score</th>\n",
       "      <th>class_size</th>\n",
       "    </tr>\n",
       "  </thead>\n",
       "  <tbody>\n",
       "    <tr>\n",
       "      <th>0</th>\n",
       "      <td>1</td>\n",
       "      <td>4.692675</td>\n",
       "      <td>4.202229</td>\n",
       "      <td>4.243631</td>\n",
       "      <td>26.538217</td>\n",
       "    </tr>\n",
       "    <tr>\n",
       "      <th>1</th>\n",
       "      <td>2</td>\n",
       "      <td>4.441441</td>\n",
       "      <td>4.229730</td>\n",
       "      <td>4.216216</td>\n",
       "      <td>21.135135</td>\n",
       "    </tr>\n",
       "    <tr>\n",
       "      <th>2</th>\n",
       "      <td>3</td>\n",
       "      <td>4.417910</td>\n",
       "      <td>4.059701</td>\n",
       "      <td>4.007463</td>\n",
       "      <td>14.940299</td>\n",
       "    </tr>\n",
       "    <tr>\n",
       "      <th>3</th>\n",
       "      <td>5</td>\n",
       "      <td>4.247934</td>\n",
       "      <td>4.000000</td>\n",
       "      <td>3.991736</td>\n",
       "      <td>25.867769</td>\n",
       "    </tr>\n",
       "    <tr>\n",
       "      <th>4</th>\n",
       "      <td>8</td>\n",
       "      <td>4.560284</td>\n",
       "      <td>4.141844</td>\n",
       "      <td>4.262411</td>\n",
       "      <td>20.078014</td>\n",
       "    </tr>\n",
       "  </tbody>\n",
       "</table>\n",
       "</div>"
      ],
      "text/plain": [
       "   workshop_instructor  knowledge  venue_score  satisfaction_score  class_size\n",
       "0                    1   4.692675     4.202229            4.243631   26.538217\n",
       "1                    2   4.441441     4.229730            4.216216   21.135135\n",
       "2                    3   4.417910     4.059701            4.007463   14.940299\n",
       "3                    5   4.247934     4.000000            3.991736   25.867769\n",
       "4                    8   4.560284     4.141844            4.262411   20.078014"
      ]
     },
     "execution_count": 124,
     "metadata": {},
     "output_type": "execute_result"
    }
   ],
   "source": [
    "selected.groupby('workshop_instructor').mean().reset_index()"
   ]
  },
  {
   "cell_type": "code",
   "execution_count": 125,
   "metadata": {},
   "outputs": [
    {
     "data": {
      "text/html": [
       "<div>\n",
       "<style scoped>\n",
       "    .dataframe tbody tr th:only-of-type {\n",
       "        vertical-align: middle;\n",
       "    }\n",
       "\n",
       "    .dataframe tbody tr th {\n",
       "        vertical-align: top;\n",
       "    }\n",
       "\n",
       "    .dataframe thead th {\n",
       "        text-align: right;\n",
       "    }\n",
       "</style>\n",
       "<table border=\"1\" class=\"dataframe\">\n",
       "  <thead>\n",
       "    <tr style=\"text-align: right;\">\n",
       "      <th></th>\n",
       "      <th>workshop_instructor</th>\n",
       "      <th>measurement</th>\n",
       "      <th>value</th>\n",
       "    </tr>\n",
       "  </thead>\n",
       "  <tbody>\n",
       "    <tr>\n",
       "      <th>15</th>\n",
       "      <td>1</td>\n",
       "      <td>class_size</td>\n",
       "      <td>26.538217</td>\n",
       "    </tr>\n",
       "    <tr>\n",
       "      <th>16</th>\n",
       "      <td>2</td>\n",
       "      <td>class_size</td>\n",
       "      <td>21.135135</td>\n",
       "    </tr>\n",
       "    <tr>\n",
       "      <th>17</th>\n",
       "      <td>3</td>\n",
       "      <td>class_size</td>\n",
       "      <td>14.940299</td>\n",
       "    </tr>\n",
       "    <tr>\n",
       "      <th>18</th>\n",
       "      <td>5</td>\n",
       "      <td>class_size</td>\n",
       "      <td>25.867769</td>\n",
       "    </tr>\n",
       "    <tr>\n",
       "      <th>19</th>\n",
       "      <td>8</td>\n",
       "      <td>class_size</td>\n",
       "      <td>20.078014</td>\n",
       "    </tr>\n",
       "  </tbody>\n",
       "</table>\n",
       "</div>"
      ],
      "text/plain": [
       "    workshop_instructor measurement      value\n",
       "15                    1  class_size  26.538217\n",
       "16                    2  class_size  21.135135\n",
       "17                    3  class_size  14.940299\n",
       "18                    5  class_size  25.867769\n",
       "19                    8  class_size  20.078014"
      ]
     },
     "execution_count": 125,
     "metadata": {},
     "output_type": "execute_result"
    }
   ],
   "source": [
    "melted = selected.groupby('workshop_instructor').mean().reset_index().melt(\n",
    "    'workshop_instructor', var_name='measurement', value_name='value'\n",
    ")\n",
    "melted.tail()"
   ]
  },
  {
   "cell_type": "code",
   "execution_count": 127,
   "metadata": {},
   "outputs": [
    {
     "data": {
      "application/vnd.vegalite.v2+json": {
       "$schema": "https://vega.github.io/schema/vega-lite/v2.6.0.json",
       "config": {
        "view": {
         "height": 300,
         "width": 400
        }
       },
       "data": {
        "name": "data-a1b81e475dbd24a5527078a410a2c0dc"
       },
       "datasets": {
        "data-a1b81e475dbd24a5527078a410a2c0dc": [
         {
          "measurement": "knowledge",
          "value": 4.692675159235669,
          "workshop_instructor": 1
         },
         {
          "measurement": "knowledge",
          "value": 4.441441441441442,
          "workshop_instructor": 2
         },
         {
          "measurement": "knowledge",
          "value": 4.417910447761194,
          "workshop_instructor": 3
         },
         {
          "measurement": "knowledge",
          "value": 4.24793388429752,
          "workshop_instructor": 5
         },
         {
          "measurement": "knowledge",
          "value": 4.560283687943262,
          "workshop_instructor": 8
         },
         {
          "measurement": "venue_score",
          "value": 4.202229299363057,
          "workshop_instructor": 1
         },
         {
          "measurement": "venue_score",
          "value": 4.22972972972973,
          "workshop_instructor": 2
         },
         {
          "measurement": "venue_score",
          "value": 4.059701492537314,
          "workshop_instructor": 3
         },
         {
          "measurement": "venue_score",
          "value": 4,
          "workshop_instructor": 5
         },
         {
          "measurement": "venue_score",
          "value": 4.141843971631205,
          "workshop_instructor": 8
         },
         {
          "measurement": "satisfaction_score",
          "value": 4.243630573248407,
          "workshop_instructor": 1
         },
         {
          "measurement": "satisfaction_score",
          "value": 4.216216216216216,
          "workshop_instructor": 2
         },
         {
          "measurement": "satisfaction_score",
          "value": 4.007462686567164,
          "workshop_instructor": 3
         },
         {
          "measurement": "satisfaction_score",
          "value": 3.9917355371900825,
          "workshop_instructor": 5
         },
         {
          "measurement": "satisfaction_score",
          "value": 4.26241134751773,
          "workshop_instructor": 8
         },
         {
          "measurement": "class_size",
          "value": 26.538216560509554,
          "workshop_instructor": 1
         },
         {
          "measurement": "class_size",
          "value": 21.135135135135137,
          "workshop_instructor": 2
         },
         {
          "measurement": "class_size",
          "value": 14.940298507462687,
          "workshop_instructor": 3
         },
         {
          "measurement": "class_size",
          "value": 25.867768595041323,
          "workshop_instructor": 5
         },
         {
          "measurement": "class_size",
          "value": 20.078014184397162,
          "workshop_instructor": 8
         }
        ]
       },
       "encoding": {
        "column": {
         "field": "workshop_instructor",
         "type": "quantitative"
        },
        "x": {
         "field": "measurement",
         "type": "nominal"
        },
        "y": {
         "field": "value",
         "type": "quantitative"
        }
       },
       "mark": "bar"
      },
      "image/png": "[encoded data removed]",
      "text/plain": [
       "<VegaLite 2 object>\n",
       "\n",
       "If you see this message, it means the renderer has not been properly enabled\n",
       "for the frontend that you are using. For more information, see\n",
       "https://altair-viz.github.io/user_guide/troubleshooting.html\n"
      ]
     },
     "execution_count": 127,
     "metadata": {},
     "output_type": "execute_result"
    }
   ],
   "source": [
    "alt.Chart(melted).mark_bar().encode(\n",
    "    x='measurement:N',\n",
    "    y='value:Q',\n",
    "    column='workshop_instructor'\n",
    ")"
   ]
  },
  {
   "cell_type": "code",
   "execution_count": 128,
   "metadata": {},
   "outputs": [
    {
     "data": {
      "text/html": [
       "<div>\n",
       "<style scoped>\n",
       "    .dataframe tbody tr th:only-of-type {\n",
       "        vertical-align: middle;\n",
       "    }\n",
       "\n",
       "    .dataframe tbody tr th {\n",
       "        vertical-align: top;\n",
       "    }\n",
       "\n",
       "    .dataframe thead th {\n",
       "        text-align: right;\n",
       "    }\n",
       "</style>\n",
       "<table border=\"1\" class=\"dataframe\">\n",
       "  <thead>\n",
       "    <tr style=\"text-align: right;\">\n",
       "      <th></th>\n",
       "      <th>workshop_instructor</th>\n",
       "      <th>measurement</th>\n",
       "      <th>value</th>\n",
       "    </tr>\n",
       "  </thead>\n",
       "  <tbody>\n",
       "    <tr>\n",
       "      <th>0</th>\n",
       "      <td>1</td>\n",
       "      <td>knowledge</td>\n",
       "      <td>4.692675</td>\n",
       "    </tr>\n",
       "    <tr>\n",
       "      <th>1</th>\n",
       "      <td>2</td>\n",
       "      <td>knowledge</td>\n",
       "      <td>4.441441</td>\n",
       "    </tr>\n",
       "    <tr>\n",
       "      <th>2</th>\n",
       "      <td>3</td>\n",
       "      <td>knowledge</td>\n",
       "      <td>4.417910</td>\n",
       "    </tr>\n",
       "    <tr>\n",
       "      <th>3</th>\n",
       "      <td>5</td>\n",
       "      <td>knowledge</td>\n",
       "      <td>4.247934</td>\n",
       "    </tr>\n",
       "    <tr>\n",
       "      <th>4</th>\n",
       "      <td>8</td>\n",
       "      <td>knowledge</td>\n",
       "      <td>4.560284</td>\n",
       "    </tr>\n",
       "  </tbody>\n",
       "</table>\n",
       "</div>"
      ],
      "text/plain": [
       "   workshop_instructor measurement     value\n",
       "0                    1   knowledge  4.692675\n",
       "1                    2   knowledge  4.441441\n",
       "2                    3   knowledge  4.417910\n",
       "3                    5   knowledge  4.247934\n",
       "4                    8   knowledge  4.560284"
      ]
     },
     "execution_count": 128,
     "metadata": {},
     "output_type": "execute_result"
    }
   ],
   "source": [
    "melted.head()"
   ]
  },
  {
   "cell_type": "code",
   "execution_count": 155,
   "metadata": {},
   "outputs": [
    {
     "data": {
      "application/vnd.vegalite.v2+json": {
       "$schema": "https://vega.github.io/schema/vega-lite/v2.6.0.json",
       "config": {
        "view": {
         "height": 300,
         "width": 400
        }
       },
       "data": {
        "name": "data-b855a6b49fa2ab215699231734a4389f"
       },
       "datasets": {
        "data-b855a6b49fa2ab215699231734a4389f": [
         {
          "measurement": "knowledge",
          "value": 4.692675159235669,
          "workshop_instructor": 1
         },
         {
          "measurement": "knowledge",
          "value": 4.441441441441442,
          "workshop_instructor": 2
         },
         {
          "measurement": "knowledge",
          "value": 4.417910447761194,
          "workshop_instructor": 3
         },
         {
          "measurement": "knowledge",
          "value": 4.24793388429752,
          "workshop_instructor": 5
         },
         {
          "measurement": "knowledge",
          "value": 4.560283687943262,
          "workshop_instructor": 8
         },
         {
          "measurement": "venue_score",
          "value": 4.202229299363057,
          "workshop_instructor": 1
         },
         {
          "measurement": "venue_score",
          "value": 4.22972972972973,
          "workshop_instructor": 2
         },
         {
          "measurement": "venue_score",
          "value": 4.059701492537314,
          "workshop_instructor": 3
         },
         {
          "measurement": "venue_score",
          "value": 4,
          "workshop_instructor": 5
         },
         {
          "measurement": "venue_score",
          "value": 4.141843971631205,
          "workshop_instructor": 8
         },
         {
          "measurement": "satisfaction_score",
          "value": 4.243630573248407,
          "workshop_instructor": 1
         },
         {
          "measurement": "satisfaction_score",
          "value": 4.216216216216216,
          "workshop_instructor": 2
         },
         {
          "measurement": "satisfaction_score",
          "value": 4.007462686567164,
          "workshop_instructor": 3
         },
         {
          "measurement": "satisfaction_score",
          "value": 3.9917355371900825,
          "workshop_instructor": 5
         },
         {
          "measurement": "satisfaction_score",
          "value": 4.26241134751773,
          "workshop_instructor": 8
         }
        ]
       },
       "encoding": {
        "color": {
         "condition": {
          "test": "(datum.value > 4.2)",
          "value": "seagreen"
         },
         "value": "goldenrod"
        },
        "row": {
         "field": "workshop_instructor",
         "type": "quantitative"
        },
        "x": {
         "field": "value",
         "type": "quantitative"
        },
        "y": {
         "field": "measurement",
         "type": "nominal"
        }
       },
       "mark": "bar",
       "selection": {
        "selector010": {
         "bind": "scales",
         "encodings": [
          "x",
          "y"
         ],
         "mark": {
          "fill": "#333",
          "fillOpacity": 0.125,
          "stroke": "white"
         },
         "on": "[mousedown, window:mouseup] > window:mousemove!",
         "resolve": "global",
         "translate": "[mousedown, window:mouseup] > window:mousemove!",
         "type": "interval",
         "zoom": "wheel!"
        }
       }
      },
      "image/png": "[encoded data removed]",
      "text/plain": [
       "<VegaLite 2 object>\n",
       "\n",
       "If you see this message, it means the renderer has not been properly enabled\n",
       "for the frontend that you are using. For more information, see\n",
       "https://altair-viz.github.io/user_guide/troubleshooting.html\n"
      ]
     },
     "execution_count": 155,
     "metadata": {},
     "output_type": "execute_result"
    }
   ],
   "source": [
    "alt.Chart(melted.loc[melted.measurement != 'class_size', ]).mark_bar().encode(\n",
    "    x='value:Q',\n",
    "    y='measurement:N',\n",
    "    row='workshop_instructor',\n",
    "    color=alt.condition(\n",
    "        alt.datum.value > 4.2,\n",
    "        alt.value(\"seagreen\"),\n",
    "        alt.value(\"goldenrod\")\n",
    "    )\n",
    ").interactive()"
   ]
  },
  {
   "cell_type": "markdown",
   "metadata": {},
   "source": [
    "## Production \n",
    "\n",
    "Now that we have a _pretty_ polished, _interactive_ chart, we can take it to production. \n",
    "\n",
    "Shift your attention back to the workshop to see how we can now take the code we develop above, and integrate / incorporate it into a live app:\n",
    "\n",
    "- Importing the necessary libraries\n",
    "- Exposing the data through altair\n",
    "- Setting an endpoint\n",
    "- Visualize in the view layer\n",
    "- Test!\n",
    "- Deploy / Continious delivery\n",
    "\n",
    "Check out the final app at [pedagogyapp.com](http://pedagogyapp.com)"
   ]
  }
 ],
 "metadata": {
  "kernelspec": {
   "display_name": "pedagogy",
   "language": "python",
   "name": "pedagogy"
  },
  "language_info": {
   "codemirror_mode": {
    "name": "ipython",
    "version": 3
   },
   "file_extension": ".py",
   "mimetype": "text/x-python",
   "name": "python",
   "nbconvert_exporter": "python",
   "pygments_lexer": "ipython3",
   "version": "3.6.8"
  }
 },
 "nbformat": 4,
 "nbformat_minor": 2
}
